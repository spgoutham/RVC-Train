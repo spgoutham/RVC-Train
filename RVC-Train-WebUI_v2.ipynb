{
 "cells": [
  {
   "attachments": {},
   "cell_type": "markdown",
   "metadata": {},
   "source": [
    "# [Retrieval-based-Voice-Conversion-Model-Training-WebUI](https://github.com/spgoutham/RVC-Train.git) Training notebook"
   ]
  },
  {
   "attachments": {},
   "cell_type": "markdown",
   "metadata": {
    "id": "ZFFCx5J80SGa"
   },
   "source": [
    "[![Open In Colab](https://colab.research.google.com/assets/colab-badge.svg)](https://colab.research.google.com/github/spgoutham/RVC-Train/blob/main/RVC-Train-WebUI_v2.ipynb)"
   ]
  },
  {
   "cell_type": "code",
   "execution_count": null,
   "metadata": {
    "id": "GmFP6bN9dvOq"
   },
   "outputs": [],
   "source": [
    "# @title #View Graphics Card\n",
    "!nvidia-smi"
   ]
  },
  {
   "cell_type": "code",
   "execution_count": null,
   "metadata": {
    "id": "jwu07JgqoFON"
   },
   "outputs": [],
   "source": [
    "# @title Mount Google Cloud Disk\n",
    "\n",
    "from google.colab import drive\n",
    "\n",
    "drive.mount(\"/content/drive\")"
   ]
  },
  {
   "cell_type": "code",
   "execution_count": null,
   "metadata": {
    "id": "wjddIFr1oS3W"
   },
   "outputs": [],
   "source": [
    "# @title #Installation dependencies\n",
    "!apt-get -y install build-essential python3-dev ffmpeg\n",
    "!pip3 install --upgrade setuptools wheel\n",
    "!pip3 install --upgrade pip\n",
    "!pip3 install faiss-cpu==1.7.2 fairseq gradio==3.14.0 ffmpeg ffmpeg-python praat-parselmouth pyworld numpy==1.23.5 numba==0.56.4 librosa==0.9.2\n",
    "!pip install python-dotenv\n",
    "!pip install torchcrepe\n",
    "!pip install torch\n",
    "!pip install praat-parselmouth\n",
    "!python -m pip install pip==24.0\n",
    "!pip install fairseq\n",
    "!pip install gradio==3.34.0\n"

   ]
  },
  {
   "cell_type": "markdown",
   "metadata": {},
   "source": []
  },
  {
   "cell_type": "code",
   "execution_count": null,
   "metadata": {
    "id": "ge_97mfpgqTm"
   },
   "outputs": [],
   "source": [
    "# @title #Clone warehouse\n",
    "!mkdir -p /content/RVC-Train\n",
    "\n",
    "%cd /content/RVC-Train\n",
    "\n",
    "!git init\n",
    "\n",
    "!git remote add origin https://github.com/spgoutham/RVC-Train.git\n",
    "\n",
    "!git pull origin main\n"
   ]
  },
  {
   "cell_type": "code",
   "execution_count": null,
   "metadata": {
    "id": "BLDEZADkvlw1"
   },
   "outputs": [],
   "source": [
    "# @title #Update warehouse (generally no need to execute)\n",
    "!git pull"
   ]
  },
  {
   "cell_type": "code",
   "execution_count": null,
   "metadata": {
    "id": "pqE0PrnuRqI2"
   },
   "outputs": [],
   "source": [
    "# @title # Install aria2\n",
    "!apt -y install -qq aria2"
   ]
  },
  {
   "cell_type": "code",
   "execution_count": null,
   "metadata": {
    "id": "UG3XpUwEomUz"
   },
   "outputs": [],
   "source": [
    "# @title Download base model\n",
    "# v1\n",
    "!aria2c --console-log-level=error -c -x 16 -s 16 -k 1M https://huggingface.co/Goutham03/sp37/resolve/main/pretrained/D32k.pth -d /content/RVC-Train/assets/pretrained -o D32k.pth\n",
    "!aria2c --console-log-level=error -c -x 16 -s 16 -k 1M https://huggingface.co/Goutham03/sp37/resolve/main/pretrained/D40k.pth -d /content/RVC-Train/assets/pretrained -o D40k.pth\n",
    "!aria2c --console-log-level=error -c -x 16 -s 16 -k 1M https://huggingface.co/Goutham03/sp37/resolve/main/pretrained/D48k.pth -d /content/RVC-Train/assets/pretrained -o D48k.pth\n",
    "!aria2c --console-log-level=error -c -x 16 -s 16 -k 1M https://huggingface.co/Goutham03/sp37/resolve/main/pretrained/G32k.pth -d /content/RVC-Train/assets/pretrained -o G32k.pth\n",
    "!aria2c --console-log-level=error -c -x 16 -s 16 -k 1M https://huggingface.co/Goutham03/sp37/resolve/main/pretrained/G40k.pth -d /content/RVC-Train/assets/pretrained -o G40k.pth\n",
    "!aria2c --console-log-level=error -c -x 16 -s 16 -k 1M https://huggingface.co/Goutham03/sp37/resolve/main/pretrained/G48k.pth -d /content/RVC-Train/assets/pretrained -o G48k.pth\n",
    "!aria2c --console-log-level=error -c -x 16 -s 16 -k 1M https://huggingface.co/Goutham03/sp37/resolve/main/pretrained/f0D32k.pth -d /content/RVC-Train/assets/pretrained -o f0D32k.pth\n",
    "!aria2c --console-log-level=error -c -x 16 -s 16 -k 1M https://huggingface.co/Goutham03/sp37/resolve/main/pretrained/f0D40k.pth -d /content/RVC-Train/assets/pretrained -o f0D40k.pth\n",
    "!aria2c --console-log-level=error -c -x 16 -s 16 -k 1M https://huggingface.co/Goutham03/sp37/resolve/main/pretrained/f0D48k.pth -d /content/RVC-Train/assets/pretrained -o f0D48k.pth\n",
    "!aria2c --console-log-level=error -c -x 16 -s 16 -k 1M https://huggingface.co/Goutham03/sp37/resolve/main/pretrained/f0G32k.pth -d /content/RVC-Train/assets/pretrained -o f0G32k.pth\n",
    "!aria2c --console-log-level=error -c -x 16 -s 16 -k 1M https://huggingface.co/Goutham03/sp37/resolve/main/pretrained/f0G40k.pth -d /content/RVC-Train/assets/pretrained -o f0G40k.pth\n",
    "!aria2c --console-log-level=error -c -x 16 -s 16 -k 1M https://huggingface.co/Goutham03/sp37/resolve/main/pretrained/f0G48k.pth -d /content/RVC-Train/assets/pretrained -o f0G48k.pth\n",
    "\n",
    "# v2\n",
    "!aria2c --console-log-level=error -c -x 16 -s 16 -k 1M https://huggingface.co/Goutham03/sp37/resolve/main/pretrained_v2/D32k.pth -d /content/RVC-Train/assets/pretrained_v2 -o D32k.pth\n",
    "!aria2c --console-log-level=error -c -x 16 -s 16 -k 1M https://huggingface.co/Goutham03/sp37/resolve/main/pretrained_v2/D40k.pth -d /content/RVC-Train/assets/pretrained_v2 -o D40k.pth\n",
    "!aria2c --console-log-level=error -c -x 16 -s 16 -k 1M https://huggingface.co/Goutham03/sp37/resolve/main/pretrained_v2/D48k.pth -d /content/RVC-Train/assets/pretrained_v2 -o D48k.pth\n",
    "!aria2c --console-log-level=error -c -x 16 -s 16 -k 1M https://huggingface.co/Goutham03/sp37/resolve/main/pretrained_v2/G32k.pth -d /content/RVC-Train/assets/pretrained_v2 -o G32k.pth\n",
    "!aria2c --console-log-level=error -c -x 16 -s 16 -k 1M https://huggingface.co/Goutham03/sp37/resolve/main/pretrained_v2/G40k.pth -d /content/RVC-Train/assets/pretrained_v2 -o G40k.pth\n",
    "!aria2c --console-log-level=error -c -x 16 -s 16 -k 1M https://huggingface.co/Goutham03/sp37/resolve/main/pretrained_v2/G48k.pth -d /content/RVC-Train/assets/pretrained_v2 -o G48k.pth\n",
    "!aria2c --console-log-level=error -c -x 16 -s 16 -k 1M https://huggingface.co/Goutham03/sp37/resolve/main/pretrained_v2/f0D32k.pth -d /content/RVC-Train/assets/pretrained_v2 -o f0D32k.pth\n",
    "!aria2c --console-log-level=error -c -x 16 -s 16 -k 1M https://huggingface.co/Goutham03/sp37/resolve/main/pretrained_v2/f0D40k.pth -d /content/RVC-Train/assets/pretrained_v2 -o f0D40k.pth\n",
    "!aria2c --console-log-level=error -c -x 16 -s 16 -k 1M https://huggingface.co/Goutham03/sp37/resolve/main/pretrained_v2/f0D48k.pth -d /content/RVC-Train/assets/pretrained_v2 -o f0D48k.pth\n",
    "!aria2c --console-log-level=error -c -x 16 -s 16 -k 1M https://huggingface.co/Goutham03/sp37/resolve/main/pretrained_v2/f0G32k.pth -d /content/RVC-Train/assets/pretrained_v2 -o f0G32k.pth\n",
    "!aria2c --console-log-level=error -c -x 16 -s 16 -k 1M https://huggingface.co/Goutham03/sp37/resolve/main/pretrained_v2/f0G40k.pth -d /content/RVC-Train/assets/pretrained_v2 -o f0G40k.pth\n",
    "!aria2c --console-log-level=error -c -x 16 -s 16 -k 1M https://huggingface.co/Goutham03/sp37/resolve/main/pretrained_v2/f0G48k.pth -d /content/RVC-Train/assets/pretrained_v2 -o f0G48k.pth"
   ]
  },
  {
   "cell_type": "code",
   "execution_count": null,
   "metadata": {
    "id": "HugjmZqZRuiF"
   },
   "outputs": [],
   "source": [
    "# @title #Download vocal separation model\n",
    "!aria2c --console-log-level=error -c -x 16 -s 16 -k 1M https://huggingface.co/Goutham03/sp37/resolve/main/uvr5_weights/HP2-human-vocals-non-human-instrumentals.pth -d /content/RVC-Train/assets/uvr5_weights -o HP2-human-vocals-non-human-instrumentals.pth\n",
    "!aria2c --console-log-level=error -c -x 16 -s 16 -k 1M https://huggingface.co/Goutham03/sp37/resolve/main/uvr5_weights/HP5-main-melody-vocals-other-instruments.pth -d /content/RVC-Train/assets/uvr5_weights -o HP5-main-melody-vocals-other-instruments.pth"
   ]
  },
  {
   "cell_type": "code",
   "execution_count": null,
   "metadata": {
    "id": "2RCaT9FTR0ej"
   },
   "outputs": [],
   "source": [
    "# @title #Download hubert_base\n",
    "!aria2c --console-log-level=error -c -x 16 -s 16 -k 1M https://huggingface.co/Goutham03/sp37/resolve/main/hubert_base.pt -d /content/RVC-Train/assets/hubert -o hubert_base.pt"
   ]
  },
  {
   "cell_type": "code",
   "execution_count": null,
   "metadata": {},
   "outputs": [],
   "source": [
    "# @title #Download rmvpe model\n",
    "!aria2c --console-log-level=error -c -x 16 -s 16 -k 1M https://huggingface.co/Goutham03/sp37/resolve/main/rmvpe.pt -d /content/RVC-Train/assets/rmvpe -o rmvpe.pt"
   ]
  },
  {
   "cell_type": "code",
   "execution_count": null,
   "metadata": {
    "id": "Mwk7Q0Loqzjx"
   },
   "outputs": [],
   "source": [
    "# @title #Load the packaged data set from Google Cloud Disk to /content/dataset\n",
    "\n",
    "# @markdown dataset location\n",
    "DATASET = (\n",
    "    \"/content/drive/MyDrive/dataset/Dhanush.zip\"  # @param {type:\"string\"}\n",
    ")\n",
    "\n",
    "!mkdir -p /content/dataset\n",
    "!unzip -d /content/dataset -B {DATASET}"
   ]
  },
  {
   "cell_type": "code",
   "execution_count": null,
   "metadata": {
    "id": "PDlFxWHWEynD"
   },
   "outputs": [],
   "source": [
    "# @title #Rename the file with the same name in the dataset\n",
    "!ls -a /content/dataset/\n",
    "!rename 's/(\\w+)\\.(\\w+)~(\\d*)/$1_$3.$2/' /content/dataset/*.*~*"
   ]
  },
  {
   "cell_type": "code",
   "execution_count": null,
   "metadata": {
    "id": "7vh6vphDwO0b"
   },
   "outputs": [],
   "source": [
    "# @title #Start WebUI\n",
    "%cd /content/RVC-Train\n",
    "# %load_ext tensorboard\n",
    "# %tensorboard --logdir /content/RVC-Train/logs\n",
    "!python3 infer-web.py --colab --pycmd python3"
   ]
  }
 ],
 "metadata": {
  "accelerator": "GPU",
  "colab": {
   "private_outputs": true,
   "provenance": []
  },
  "gpuClass": "standard",
  "kernelspec": {
   "display_name": "Python 3",
   "name": "python3"
  },
  "language_info": {
   "name": "python"
  }
 },
 "nbformat": 4,
 "nbformat_minor": 0
}
